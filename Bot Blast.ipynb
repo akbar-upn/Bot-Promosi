{
 "cells": [
  {
   "cell_type": "code",
   "execution_count": 1,
   "metadata": {},
   "outputs": [],
   "source": [
    "import pywhatkit as pwk\n",
    "import pandas as pd"
   ]
  },
  {
   "cell_type": "code",
   "execution_count": 2,
   "metadata": {},
   "outputs": [
    {
     "data": {
      "text/html": [
       "<div>\n",
       "<style scoped>\n",
       "    .dataframe tbody tr th:only-of-type {\n",
       "        vertical-align: middle;\n",
       "    }\n",
       "\n",
       "    .dataframe tbody tr th {\n",
       "        vertical-align: top;\n",
       "    }\n",
       "\n",
       "    .dataframe thead th {\n",
       "        text-align: right;\n",
       "    }\n",
       "</style>\n",
       "<table border=\"1\" class=\"dataframe\">\n",
       "  <thead>\n",
       "    <tr style=\"text-align: right;\">\n",
       "      <th></th>\n",
       "      <th>TELP</th>\n",
       "      <th>provider</th>\n",
       "    </tr>\n",
       "  </thead>\n",
       "  <tbody>\n",
       "    <tr>\n",
       "      <th>0</th>\n",
       "      <td>811308174</td>\n",
       "      <td>Lain</td>\n",
       "    </tr>\n",
       "    <tr>\n",
       "      <th>1</th>\n",
       "      <td>85101694734</td>\n",
       "      <td>Lain</td>\n",
       "    </tr>\n",
       "    <tr>\n",
       "      <th>2</th>\n",
       "      <td>8570788856</td>\n",
       "      <td>Indosat</td>\n",
       "    </tr>\n",
       "    <tr>\n",
       "      <th>3</th>\n",
       "      <td>-</td>\n",
       "      <td>-</td>\n",
       "    </tr>\n",
       "    <tr>\n",
       "      <th>4</th>\n",
       "      <td>8563456327</td>\n",
       "      <td>Indosat</td>\n",
       "    </tr>\n",
       "  </tbody>\n",
       "</table>\n",
       "</div>"
      ],
      "text/plain": [
       "          TELP provider\n",
       "0    811308174     Lain\n",
       "1  85101694734     Lain\n",
       "2   8570788856  Indosat\n",
       "3            -        -\n",
       "4   8563456327  Indosat"
      ]
     },
     "execution_count": 2,
     "metadata": {},
     "output_type": "execute_result"
    }
   ],
   "source": [
    "df = pd.read_csv('data_no_hifi.csv', sep='\\t')\n",
    "df.head()"
   ]
  },
  {
   "cell_type": "code",
   "execution_count": 3,
   "metadata": {},
   "outputs": [
    {
     "name": "stdout",
     "output_type": "stream",
     "text": [
      "<class 'pandas.core.frame.DataFrame'>\n",
      "RangeIndex: 7620 entries, 0 to 7619\n",
      "Data columns (total 2 columns):\n",
      " #   Column    Non-Null Count  Dtype \n",
      "---  ------    --------------  ----- \n",
      " 0   TELP      7466 non-null   object\n",
      " 1   provider  7620 non-null   object\n",
      "dtypes: object(2)\n",
      "memory usage: 119.2+ KB\n"
     ]
    }
   ],
   "source": [
    "df.info()"
   ]
  },
  {
   "cell_type": "code",
   "execution_count": 4,
   "metadata": {},
   "outputs": [],
   "source": [
    "df = df[df.TELP != '-']\n",
    "df = df[df.provider != '-']\n",
    "\n"
   ]
  },
  {
   "cell_type": "code",
   "execution_count": 5,
   "metadata": {},
   "outputs": [
    {
     "name": "stdout",
     "output_type": "stream",
     "text": [
      "<class 'pandas.core.frame.DataFrame'>\n",
      "Index: 7457 entries, 0 to 7619\n",
      "Data columns (total 2 columns):\n",
      " #   Column    Non-Null Count  Dtype \n",
      "---  ------    --------------  ----- \n",
      " 0   TELP      7457 non-null   object\n",
      " 1   provider  7457 non-null   object\n",
      "dtypes: object(2)\n",
      "memory usage: 174.8+ KB\n"
     ]
    }
   ],
   "source": [
    "df.info()"
   ]
  },
  {
   "cell_type": "code",
   "execution_count": 6,
   "metadata": {},
   "outputs": [
    {
     "data": {
      "text/html": [
       "<div>\n",
       "<style scoped>\n",
       "    .dataframe tbody tr th:only-of-type {\n",
       "        vertical-align: middle;\n",
       "    }\n",
       "\n",
       "    .dataframe tbody tr th {\n",
       "        vertical-align: top;\n",
       "    }\n",
       "\n",
       "    .dataframe thead th {\n",
       "        text-align: right;\n",
       "    }\n",
       "</style>\n",
       "<table border=\"1\" class=\"dataframe\">\n",
       "  <thead>\n",
       "    <tr style=\"text-align: right;\">\n",
       "      <th></th>\n",
       "      <th>TELP</th>\n",
       "      <th>provider</th>\n",
       "    </tr>\n",
       "  </thead>\n",
       "  <tbody>\n",
       "    <tr>\n",
       "      <th>0</th>\n",
       "      <td>811308174</td>\n",
       "      <td>Lain</td>\n",
       "    </tr>\n",
       "    <tr>\n",
       "      <th>1</th>\n",
       "      <td>85101694734</td>\n",
       "      <td>Lain</td>\n",
       "    </tr>\n",
       "    <tr>\n",
       "      <th>2</th>\n",
       "      <td>8570788856</td>\n",
       "      <td>Indosat</td>\n",
       "    </tr>\n",
       "    <tr>\n",
       "      <th>4</th>\n",
       "      <td>8563456327</td>\n",
       "      <td>Indosat</td>\n",
       "    </tr>\n",
       "    <tr>\n",
       "      <th>5</th>\n",
       "      <td>85707888856</td>\n",
       "      <td>Indosat</td>\n",
       "    </tr>\n",
       "    <tr>\n",
       "      <th>...</th>\n",
       "      <td>...</td>\n",
       "      <td>...</td>\n",
       "    </tr>\n",
       "    <tr>\n",
       "      <th>7615</th>\n",
       "      <td>81555650654</td>\n",
       "      <td>Indosat</td>\n",
       "    </tr>\n",
       "    <tr>\n",
       "      <th>7616</th>\n",
       "      <td>81999265636</td>\n",
       "      <td>Lain</td>\n",
       "    </tr>\n",
       "    <tr>\n",
       "      <th>7617</th>\n",
       "      <td>85729589537</td>\n",
       "      <td>Indosat</td>\n",
       "    </tr>\n",
       "    <tr>\n",
       "      <th>7618</th>\n",
       "      <td>82131148338</td>\n",
       "      <td>Lain</td>\n",
       "    </tr>\n",
       "    <tr>\n",
       "      <th>7619</th>\n",
       "      <td>81229333067</td>\n",
       "      <td>Lain</td>\n",
       "    </tr>\n",
       "  </tbody>\n",
       "</table>\n",
       "<p>7457 rows × 2 columns</p>\n",
       "</div>"
      ],
      "text/plain": [
       "             TELP provider\n",
       "0       811308174     Lain\n",
       "1     85101694734     Lain\n",
       "2      8570788856  Indosat\n",
       "4      8563456327  Indosat\n",
       "5     85707888856  Indosat\n",
       "...           ...      ...\n",
       "7615  81555650654  Indosat\n",
       "7616  81999265636     Lain\n",
       "7617  85729589537  Indosat\n",
       "7618  82131148338     Lain\n",
       "7619  81229333067     Lain\n",
       "\n",
       "[7457 rows x 2 columns]"
      ]
     },
     "execution_count": 6,
     "metadata": {},
     "output_type": "execute_result"
    }
   ],
   "source": [
    "df"
   ]
  },
  {
   "cell_type": "code",
   "execution_count": 7,
   "metadata": {},
   "outputs": [
    {
     "data": {
      "text/html": [
       "<div>\n",
       "<style scoped>\n",
       "    .dataframe tbody tr th:only-of-type {\n",
       "        vertical-align: middle;\n",
       "    }\n",
       "\n",
       "    .dataframe tbody tr th {\n",
       "        vertical-align: top;\n",
       "    }\n",
       "\n",
       "    .dataframe thead th {\n",
       "        text-align: right;\n",
       "    }\n",
       "</style>\n",
       "<table border=\"1\" class=\"dataframe\">\n",
       "  <thead>\n",
       "    <tr style=\"text-align: right;\">\n",
       "      <th></th>\n",
       "      <th>TELP</th>\n",
       "      <th>provider</th>\n",
       "    </tr>\n",
       "  </thead>\n",
       "  <tbody>\n",
       "    <tr>\n",
       "      <th>0</th>\n",
       "      <td>+62811308174</td>\n",
       "      <td>Lain</td>\n",
       "    </tr>\n",
       "    <tr>\n",
       "      <th>1</th>\n",
       "      <td>+6285101694734</td>\n",
       "      <td>Lain</td>\n",
       "    </tr>\n",
       "    <tr>\n",
       "      <th>2</th>\n",
       "      <td>+628570788856</td>\n",
       "      <td>Indosat</td>\n",
       "    </tr>\n",
       "    <tr>\n",
       "      <th>4</th>\n",
       "      <td>+628563456327</td>\n",
       "      <td>Indosat</td>\n",
       "    </tr>\n",
       "    <tr>\n",
       "      <th>5</th>\n",
       "      <td>+6285707888856</td>\n",
       "      <td>Indosat</td>\n",
       "    </tr>\n",
       "    <tr>\n",
       "      <th>...</th>\n",
       "      <td>...</td>\n",
       "      <td>...</td>\n",
       "    </tr>\n",
       "    <tr>\n",
       "      <th>7615</th>\n",
       "      <td>+6281555650654</td>\n",
       "      <td>Indosat</td>\n",
       "    </tr>\n",
       "    <tr>\n",
       "      <th>7616</th>\n",
       "      <td>+6281999265636</td>\n",
       "      <td>Lain</td>\n",
       "    </tr>\n",
       "    <tr>\n",
       "      <th>7617</th>\n",
       "      <td>+6285729589537</td>\n",
       "      <td>Indosat</td>\n",
       "    </tr>\n",
       "    <tr>\n",
       "      <th>7618</th>\n",
       "      <td>+6282131148338</td>\n",
       "      <td>Lain</td>\n",
       "    </tr>\n",
       "    <tr>\n",
       "      <th>7619</th>\n",
       "      <td>+6281229333067</td>\n",
       "      <td>Lain</td>\n",
       "    </tr>\n",
       "  </tbody>\n",
       "</table>\n",
       "<p>7457 rows × 2 columns</p>\n",
       "</div>"
      ],
      "text/plain": [
       "                TELP provider\n",
       "0       +62811308174     Lain\n",
       "1     +6285101694734     Lain\n",
       "2      +628570788856  Indosat\n",
       "4      +628563456327  Indosat\n",
       "5     +6285707888856  Indosat\n",
       "...              ...      ...\n",
       "7615  +6281555650654  Indosat\n",
       "7616  +6281999265636     Lain\n",
       "7617  +6285729589537  Indosat\n",
       "7618  +6282131148338     Lain\n",
       "7619  +6281229333067     Lain\n",
       "\n",
       "[7457 rows x 2 columns]"
      ]
     },
     "execution_count": 7,
     "metadata": {},
     "output_type": "execute_result"
    }
   ],
   "source": [
    "df['TELP'] = '+62'+ df['TELP'] \n",
    "df\n"
   ]
  },
  {
   "cell_type": "code",
   "execution_count": 9,
   "metadata": {},
   "outputs": [
    {
     "name": "stdout",
     "output_type": "stream",
     "text": [
      "Pesan akan dikirim ke nomor berikut: ['+6281357576773', '+6281358868383', '+6281334568775', '+6289649938327', '+6285229998492', '+6281938390106', '+6285100103967', '+6287888078064', '+6282234331218', '+6287703378741', '+6282231654443', '+628.81036E+11', '+6281359819249', '+6282132939913', '+6283831399360', '+6285101544827', '+6285261013651', '+6281284339050', '+6281285617038', '+6287744491927', '+6281217733124', '+6281333360202', '+6281233878241', '+6282135153090', '+6289501748917', '+6285718708887', '+6281335425513', '+628151600256', '+6285105023476', '+6285850842941', '+6282341365088', '+6281332405263', '+6281234711736', '+6282216603885', '+6281238335010', '+6281393503844', '+628123230635', '+628.95342E+11', '+62818580966', '+6281335931952', '+6281233975573', '+6282299803064', '+6285730038672', '+6282140161515', '+6287853331308', '+6282141555422', '+6281333900065', '+6282187499110', '+6287855993021', '+6287849443156']\n"
     ]
    }
   ],
   "source": [
    "# Import library yang diperlukan\n",
    "import pywhatkit as pwk\n",
    "import time\n",
    "df = pd.DataFrame(df)\n",
    "start_row = 420\n",
    "end_row = 469\n",
    "selected_numbers = df['TELP'][start_row:end_row+1].tolist()\n",
    "\n",
    "imagePath = \"blast.jpg\"\n",
    "Caption = (\"🎉 Promo Eksklusif IM3 Prime 🎉\\n\\n\"\n",
    "           \"📌 Free Nomor Cantik\\n\"\n",
    "           \"📌 eSIM Ready\\n\"\n",
    "           \"📌 Gratis Vidio Apps\\n\"\n",
    "           \"📌 Kuota Rollover sampai 100GB\\n\\n\"\n",
    "           \"Tunggu apa lagi? Pilihan terbaik untuk internet yang lancar dan tanpa batas! Dapatkan segera!\")\n",
    "\n",
    "initial_chat = (\"Selamat Siang Bapak/Ibu, Perkenalkan Saya , Account Executive Postpaid Indosat Surabaya. Ijin share promo menarik dari IM3 Postpaid untuk Bapak/Ibu\")\n",
    "\n",
    "# Loop untuk mengirim pesan ke nomor yang dipilih dalam rentang\n",
    "for number in selected_numbers:\n",
    "    pwk.sendwhatmsg_instantly(number, initial_chat, 20, tab_close=True)\n",
    "    pwk.sendwhats_image(number, imagePath, Caption, 25, tab_close=True)\n",
    "print(f\"Pesan akan dikirim ke nomor berikut: {selected_numbers}\")\n"
   ]
  },
  {
   "cell_type": "code",
   "execution_count": null,
   "metadata": {},
   "outputs": [],
   "source": []
  }
 ],
 "metadata": {
  "kernelspec": {
   "display_name": "Python 3",
   "language": "python",
   "name": "python3"
  },
  "language_info": {
   "codemirror_mode": {
    "name": "ipython",
    "version": 3
   },
   "file_extension": ".py",
   "mimetype": "text/x-python",
   "name": "python",
   "nbconvert_exporter": "python",
   "pygments_lexer": "ipython3",
   "version": "3.11.9"
  }
 },
 "nbformat": 4,
 "nbformat_minor": 2
}
